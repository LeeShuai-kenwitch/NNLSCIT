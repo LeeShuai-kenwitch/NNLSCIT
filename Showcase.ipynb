{
 "cells": [
  {
   "cell_type": "code",
   "execution_count": 1,
   "metadata": {},
   "outputs": [],
   "source": [
    "# Example use case of the K-Nearest-Neighbor Local Sampling Based Conditional Independence Testing"
   ]
  },
  {
   "cell_type": "code",
   "execution_count": 2,
   "metadata": {},
   "outputs": [],
   "source": [
    "import numpy as np\n",
    "from DataGen import *\n",
    "# Generate CI data\n",
    "X, Y, Z = generate_Scetbon_data(test_type=True, num_samples=500, dim=5, noise=\"gaussian\", seed=None)\n",
    "x = (X - np.mean(X)) / (np.std(X))\n",
    "y = (Y - np.mean(Y)) / (np.std(Y))\n",
    "z = (Z - np.mean(Z)) / (np.std(Z))\n"
   ]
  },
  {
   "cell_type": "code",
   "execution_count": 3,
   "metadata": {},
   "outputs": [
    {
     "name": "stdout",
     "output_type": "stream",
     "text": [
      "p-value is 0.925 - There is not enough evidence in the data to reject the null hypothesis.\n"
     ]
    }
   ],
   "source": [
    "from nnlscit import *\n",
    "\n",
    "alpha = 0.05\n",
    "p_value = lpcmicit(x, y, z)\n",
    "\n",
    "if p_value < alpha: \n",
    "    print('p-value is',p_value,'- There is enough evidence in the data to reject the null hypoyhesis.')\n",
    "else:\n",
    "    print('p-value is',p_value,'- There is not enough evidence in the data to reject the null hypothesis.')"
   ]
  },
  {
   "cell_type": "code",
   "execution_count": 4,
   "metadata": {},
   "outputs": [],
   "source": [
    "# Generate NI data\n",
    "X, Y, Z = generate_Scetbon_data(test_type=False, num_samples=500, dim=5, noise=\"gaussian\", seed=None)\n",
    "x = (X - np.mean(X)) / (np.std(X))\n",
    "y = (Y - np.mean(Y)) / (np.std(Y))\n",
    "z = (Z - np.mean(Z)) / (np.std(Z))"
   ]
  },
  {
   "cell_type": "code",
   "execution_count": 5,
   "metadata": {},
   "outputs": [
    {
     "name": "stdout",
     "output_type": "stream",
     "text": [
      "p-value is 0.0 - There is enough evidence in the data to reject the null hypoyhesis.\n"
     ]
    }
   ],
   "source": [
    "alpha = 0.05\n",
    "p_value = lpcmicit(x, y, z)\n",
    "\n",
    "if p_value < alpha: \n",
    "    print('p-value is',p_value,'- There is enough evidence in the data to reject the null hypoyhesis.')\n",
    "else:\n",
    "    print('p-value is',p_value,'- There is not enough evidence in the data to reject the null hypothesis.')"
   ]
  }
 ],
 "metadata": {
  "kernelspec": {
   "display_name": "Python 3.8.6 64-bit",
   "name": "python386jvsc74a57bd01a66b44cb03e0861bc370876c5cb8cbfe2ce97306deb9a2ec33df6e9f9bf966c"
  },
  "language_info": {
   "codemirror_mode": {
    "name": "ipython",
    "version": 3
   },
   "file_extension": ".py",
   "mimetype": "text/x-python",
   "name": "python",
   "nbconvert_exporter": "python",
   "pygments_lexer": "ipython3",
   "version": "3.8.6"
  },
  "orig_nbformat": 2
 },
 "nbformat": 4,
 "nbformat_minor": 2
}